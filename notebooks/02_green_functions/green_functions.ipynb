{
 "cells": [
  {
   "cell_type": "markdown",
   "id": "5772c023",
   "metadata": {},
   "source": [
    "# Green Functions"
   ]
  },
  {
   "cell_type": "markdown",
   "id": "d47e7061",
   "metadata": {},
   "source": [
    "## Laplace equation"
   ]
  },
  {
   "cell_type": "markdown",
   "id": "547740cf",
   "metadata": {},
   "source": [
    "Laplace equation is given by\n",
    "\n",
    "$$\\nabla^2 u = f$$"
   ]
  },
  {
   "cell_type": "markdown",
   "id": "f91e08b0",
   "metadata": {},
   "source": [
    "### 3D\n",
    "\n",
    "$$G(\\mathbf{x}, \\mathbf{y}) = \\frac{-1}{4\\pi|\\mathbf{x} - \\mathbf{y}|}$$"
   ]
  },
  {
   "cell_type": "markdown",
   "id": "ef2fb825",
   "metadata": {},
   "source": [
    "### 2D\n",
    "\n",
    "$$G(\\mathbf{x}, \\mathbf{y}) = \\frac{1}{2\\pi}\\ln|\\mathbf{x} - \\mathbf{y}|$$"
   ]
  },
  {
   "cell_type": "code",
   "execution_count": 6,
   "id": "8dacc391",
   "metadata": {},
   "outputs": [],
   "source": [
    "def green_pot_2d(r):\n",
    "    \"\"\"Green function for Laplace equation\n",
    "    \n",
    "    Parameters\n",
    "    ----------\n",
    "    r : float\n",
    "        Distance between the two points.\n",
    "\n",
    "    Returns\n",
    "    -------\n",
    "    phi : float\n",
    "        Value of the potential.\n",
    "    \"\"\"\n",
    "    return 0.5*np.log(r)/np.pi"
   ]
  },
  {
   "cell_type": "markdown",
   "id": "50efd26e",
   "metadata": {},
   "source": [
    "## Helmholtz equation"
   ]
  },
  {
   "cell_type": "markdown",
   "id": "d6b0a77d",
   "metadata": {},
   "source": [
    "The Helmholtz equation is given by\n",
    "\n",
    "$$(\\nabla^2 + k) u = f$$"
   ]
  },
  {
   "cell_type": "markdown",
   "id": "51ea87c1",
   "metadata": {},
   "source": [
    "### 3D\n",
    "\n",
    "$$G(\\mathbf{x}, \\mathbf{y}) = \\frac{-e^{-ik|\\mathbf{x} - \\mathbf{y}|}}{4\\pi}$$"
   ]
  },
  {
   "cell_type": "markdown",
   "id": "1b889447",
   "metadata": {
    "heading_collapsed": true
   },
   "source": [
    "### 2D\n",
    "\n",
    "$$G(\\mathbf{x}, \\mathbf{y}) = \\frac{-iH_0^{(1)}(k|\\mathbf{x} - \\mathbf{y}|)}{4}$$"
   ]
  },
  {
   "cell_type": "markdown",
   "id": "1416cf96",
   "metadata": {},
   "source": [
    "## Elasticity"
   ]
  },
  {
   "cell_type": "markdown",
   "id": "164f2cd5",
   "metadata": {},
   "source": [
    "$$(\\lambda + 2\\mu)\\nabla(\\nabla\\cdot \\mathbf{u})\n",
    "- \\mu\\nabla\\times\\nabla\\times\\mathbf{u} + \\mathbf{f} = \\mathbf{0}\\, .$$"
   ]
  },
  {
   "cell_type": "markdown",
   "id": "128a10a4",
   "metadata": {},
   "source": [
    "### 3D\n",
    "\n",
    "$$G_{ik}(\\mathbf{x}, \\mathbf{y})\n",
    "= \\frac{1 + \\nu}{8E(1-\\nu)}[(3 -4\\nu)\\delta_{ik} + n_i n_k]\\frac{1}{r}\n",
    "= \\frac{1}{4\\pi\\mu}\\left[\\frac{\\delta_{ik}}{r} - \\frac{1}{4(1 - \\nu)}\n",
    "\\frac{\\partial^2}{\\partial x_i \\partial x_j}r\\right]\\, .$$"
   ]
  },
  {
   "cell_type": "markdown",
   "id": "a2fcc43f",
   "metadata": {},
   "source": [
    "### 2D\n",
    "\n",
    "$$G_{ik}(\\mathbf{x}, \\mathbf{y})\n",
    "= \\frac{1}{8\\mu(1-\\nu)}[(3 -4\\nu)\\delta_{ik}\\log(1/r) + r_{,i} r_{,j} - \\frac{1}{2}\\delta_{ij}]\\, .$$"
   ]
  },
  {
   "cell_type": "code",
   "execution_count": null,
   "id": "608d0cc7",
   "metadata": {},
   "outputs": [],
   "source": []
  },
  {
   "cell_type": "code",
   "execution_count": 4,
   "id": "ddd80037",
   "metadata": {},
   "outputs": [
    {
     "data": {
      "text/html": [
       "<link href=\"https://fonts.googleapis.com/css?family=Merriweather:300,300i,400,400i,700,700i,900,900i\" rel='stylesheet' >\n",
       "<link href=\"https://fonts.googleapis.com/css?family=Source+Sans+Pro:300,300i,400,400i,700,700i\" rel='stylesheet' >\n",
       "<link href='http://fonts.googleapis.com/css?family=Source+Code+Pro:300,400' rel='stylesheet' >\n",
       "<style>\n",
       "\n",
       "@font-face {\n",
       "    font-family: \"Computer Modern\";\n",
       "    src: url('http://mirrors.ctan.org/fonts/cm-unicode/fonts/otf/cmunss.otf');\n",
       "}\n",
       "\n",
       "\n",
       "#notebook_panel { /* main background */\n",
       "    background: rgb(245,245,245);\n",
       "}\n",
       "\n",
       "div.cell { /* set cell width */\n",
       "    width: 800px;\n",
       "}\n",
       "\n",
       "div #notebook { /* centre the content */\n",
       "    background: #fff; /* white background for content */\n",
       "    width: 1000px;\n",
       "    margin: auto;\n",
       "    padding-left: 0em;\n",
       "}\n",
       "\n",
       "#notebook li { /* More space between bullet points */\n",
       "margin-top:0.5em;\n",
       "}\n",
       "\n",
       "/* draw border around running cells */\n",
       "div.cell.border-box-sizing.code_cell.running { \n",
       "    border: 1px solid #111;\n",
       "}\n",
       "\n",
       "/* Put a solid color box around each cell and its output, visually linking them*/\n",
       "div.cell.code_cell {\n",
       "    background-color: rgb(256,256,256); \n",
       "    border-radius: 0px; \n",
       "    padding: 0.5em;\n",
       "    margin-left:1em;\n",
       "    margin-top: 1em;\n",
       "}\n",
       "\n",
       "\n",
       "div.text_cell_render{\n",
       "    font-family: 'Source Sans Pro', sans-serif;\n",
       "    line-height: 140%;\n",
       "    font-size: 110%;\n",
       "    width:680px;\n",
       "    margin-left:auto;\n",
       "    margin-right:auto;\n",
       "}\n",
       "\n",
       "/* Formatting for header cells */\n",
       ".text_cell_render h1 {\n",
       "    font-family: 'Merriweather', serif;\n",
       "    font-style:regular;\n",
       "    font-weight: bold;    \n",
       "    font-size: 250%;\n",
       "    line-height: 100%;\n",
       "    color: #004065;\n",
       "    margin-bottom: 1em;\n",
       "    margin-top: 0.5em;\n",
       "    display: block;\n",
       "}\t\n",
       ".text_cell_render h2 {\n",
       "    font-family: 'Merriweather', serif;\n",
       "    font-weight: bold; \n",
       "    font-size: 180%;\n",
       "    line-height: 100%;\n",
       "    color: #0096d6;\n",
       "    margin-bottom: 0.5em;\n",
       "    margin-top: 0.5em;\n",
       "    display: block;\n",
       "}\t\n",
       "\n",
       ".text_cell_render h3 {\n",
       "    font-family: 'Merriweather', serif;\n",
       "\tfont-size: 150%;\n",
       "    margin-top:12px;\n",
       "    margin-bottom: 3px;\n",
       "    font-style: regular;\n",
       "    color: #008367;\n",
       "}\n",
       "\n",
       ".text_cell_render h4 {    /*Use this for captions*/\n",
       "    font-family: 'Merriweather', serif;\n",
       "    font-weight: 300; \n",
       "    font-size: 100%;\n",
       "    line-height: 120%;\n",
       "    text-align: left;\n",
       "    width:500px;\n",
       "    margin-top: 1em;\n",
       "    margin-bottom: 2em;\n",
       "    margin-left: 80pt;\n",
       "    font-style: regular;\n",
       "}\n",
       "\n",
       ".text_cell_render h5 {  /*Use this for small titles*/\n",
       "    font-family: 'Source Sans Pro', sans-serif;\n",
       "    font-weight: regular;\n",
       "    font-size: 130%;\n",
       "    color: #e31937;\n",
       "    font-style: italic;\n",
       "    margin-bottom: .5em;\n",
       "    margin-top: 1em;\n",
       "    display: block;\n",
       "}\n",
       "\n",
       ".text_cell_render h6 { /*use this for copyright note*/\n",
       "    font-family: 'Source Code Pro', sans-serif;\n",
       "    font-weight: 300;\n",
       "    font-size: 9pt;\n",
       "    line-height: 100%;\n",
       "    color: grey;\n",
       "    margin-bottom: 1px;\n",
       "    margin-top: 1px;\n",
       "}\n",
       "\n",
       "    .CodeMirror{\n",
       "            font-family: \"Source Code Pro\";\n",
       "\t\t\tfont-size: 90%;\n",
       "    }\n",
       "/*    .prompt{\n",
       "        display: None;\n",
       "    }*/\n",
       "\t\n",
       "    \n",
       "    .warning{\n",
       "        color: rgb( 240, 20, 20 )\n",
       "        }  \n",
       "</style>\n",
       "<script>\n",
       "    MathJax.Hub.Config({\n",
       "                        TeX: {\n",
       "                           extensions: [\"AMSmath.js\"], \n",
       "                           equationNumbers: { autoNumber: \"AMS\", useLabelIds: true}\n",
       "                           },\n",
       "                tex2jax: {\n",
       "                    inlineMath: [ ['$','$'], [\"\\\\(\",\"\\\\)\"] ],\n",
       "                    displayMath: [ ['$$','$$'], [\"\\\\[\",\"\\\\]\"] ]\n",
       "                },\n",
       "                displayAlign: 'center', // Change this to 'center' to center equations.\n",
       "                \"HTML-CSS\": {\n",
       "                    styles: {'.MathJax_Display': {\"margin\": 4}}\n",
       "                }\n",
       "        });\n",
       "</script>\n"
      ],
      "text/plain": [
       "<IPython.core.display.HTML object>"
      ]
     },
     "execution_count": 4,
     "metadata": {},
     "output_type": "execute_result"
    }
   ],
   "source": [
    "# Execute this cell to load the notebook's style sheet, then ignore it\n",
    "from IPython.core.display import HTML\n",
    "css_file = 'custom.css'\n",
    "HTML(open(css_file, \"r\").read())"
   ]
  },
  {
   "cell_type": "code",
   "execution_count": null,
   "id": "e070d92f",
   "metadata": {},
   "outputs": [],
   "source": []
  }
 ],
 "metadata": {
  "kernelspec": {
   "display_name": "Python 3 (ipykernel)",
   "language": "python",
   "name": "python3"
  },
  "language_info": {
   "codemirror_mode": {
    "name": "ipython",
    "version": 3
   },
   "file_extension": ".py",
   "mimetype": "text/x-python",
   "name": "python",
   "nbconvert_exporter": "python",
   "pygments_lexer": "ipython3",
   "version": "3.7.8"
  },
  "varInspector": {
   "cols": {
    "lenName": 16,
    "lenType": 16,
    "lenVar": 40
   },
   "kernels_config": {
    "python": {
     "delete_cmd_postfix": "",
     "delete_cmd_prefix": "del ",
     "library": "var_list.py",
     "varRefreshCmd": "print(var_dic_list())"
    },
    "r": {
     "delete_cmd_postfix": ") ",
     "delete_cmd_prefix": "rm(",
     "library": "var_list.r",
     "varRefreshCmd": "cat(var_dic_list()) "
    }
   },
   "types_to_exclude": [
    "module",
    "function",
    "builtin_function_or_method",
    "instance",
    "_Feature"
   ],
   "window_display": false
  }
 },
 "nbformat": 4,
 "nbformat_minor": 5
}
