{
 "cells": [
  {
   "cell_type": "markdown",
   "metadata": {},
   "source": [
    "## Example"
   ]
  },
  {
   "cell_type": "markdown",
   "metadata": {},
   "source": [
    "Example 4.1 from\n",
    "\n",
    "\n",
    "The Boundary Element Method for Engineers and Scientists\n",
    "\n"
   ]
  },
  {
   "cell_type": "code",
   "execution_count": 1,
   "metadata": {},
   "outputs": [],
   "source": [
    "%matplotlib notebook"
   ]
  },
  {
   "cell_type": "code",
   "execution_count": 2,
   "metadata": {},
   "outputs": [],
   "source": [
    "import numpy as np\n",
    "from numpy.linalg import solve\n",
    "import matplotlib.pyplot as plt\n",
    "import meshio\n",
    "from bem import (assem, eval_sol, read_geo_gmsh,\n",
    "                 rearrange_mats, rearrange_sol,\n",
    "                 surf_plot, create_rhs)"
   ]
  },
  {
   "cell_type": "code",
   "execution_count": 5,
   "metadata": {},
   "outputs": [],
   "source": [
    "mesh, coords, elems, x_m, y_m, id_dir, id_neu = read_geo_gmsh(\"files/disk.msh\", [0, 1], [2, 3])"
   ]
  },
  {
   "cell_type": "code",
   "execution_count": 13,
   "metadata": {},
   "outputs": [],
   "source": [
    "# Nodes\n",
    "coords = np.array([\n",
    "    [0.00, 0.00],\n",
    "    [0.25, 0.00],\n",
    "    [0.50, 0.00],\n",
    "    [0.75, 0.00],\n",
    "    [1.00, 0.00],\n",
    "    [1.00, 0.25],\n",
    "    [1.00, 0.50],\n",
    "    [1.00, 0.75],\n",
    "    [1.00, 1.00],\n",
    "    [0.75, 1.00],\n",
    "    [0.50, 1.00],\n",
    "    [0.25, 1.00],\n",
    "    [0.00, 1.00],\n",
    "    [0.00, 0.75],\n",
    "    [0.00, 0.50],\n",
    "    [0.00, 0.25]])\n",
    "x_m = np"
   ]
  },
  {
   "cell_type": "code",
   "execution_count": 14,
   "metadata": {},
   "outputs": [],
   "source": [
    "# Elements\n",
    "elems = np.zeros((16, 2), dtype=int)\n",
    "elems[:, 0] = range(0, 16)\n",
    "elems[:, 1] = list(range(1, 16)) + [0]"
   ]
  },
  {
   "cell_type": "code",
   "execution_count": 19,
   "metadata": {},
   "outputs": [],
   "source": [
    "Gmat, Fmat = assem(coords, elems)"
   ]
  },
  {
   "cell_type": "code",
   "execution_count": 21,
   "metadata": {},
   "outputs": [],
   "source": [
    "id_dir, id_neu"
   ]
  },
  {
   "cell_type": "code",
   "execution_count": 32,
   "metadata": {},
   "outputs": [],
   "source": [
    "id_dir = [4, 5, 6, 7, 12, 13, 14, 15]\n",
    "id_neu = [0, 1, 2, 3, 8, 9, 10, 11]\n",
    "A, B = rearrange_mats(Fmat, Gmat, id_dir, id_neu)"
   ]
  },
  {
   "cell_type": "code",
   "execution_count": 41,
   "metadata": {},
   "outputs": [],
   "source": [
    "# x_m, y_m = 0.5*(coords[elems[:, 0]] + coords[elems[:, 1]]).T\n",
    "# u_bc = [200] * 4 + [100] * 4\n",
    "# q_bc = [0] * 8\n",
    "# rhs = create_rhs(x_m, y_m, u_bc, q_bc, id_dir, id_neu)\n",
    "rhs = np.array([0, 0, 0, 0,\n",
    "                200, 200, 200, 200,\n",
    "                0, 0, 0, 0,\n",
    "                100, 100, 100, 100])"
   ]
  },
  {
   "cell_type": "code",
   "execution_count": 42,
   "metadata": {},
   "outputs": [],
   "source": [
    "sol = solve(A, B.dot(rhs))\n",
    "#u_bound, q_bound = rearrange_sol(sol, rhs, id_dir, id_neu)"
   ]
  },
  {
   "cell_type": "code",
   "execution_count": 43,
   "metadata": {},
   "outputs": [
    {
     "data": {
      "text/plain": [
       "array([ 102.73822948,  105.60249143,  140.35984675,  223.57053194,\n",
       "        100.91252995, -306.11302017, -306.11302017,  100.91252995,\n",
       "        223.57053194,  140.35984675,  105.60249143,  102.73822948,\n",
       "        253.13968651,  -12.04197207,  -12.04197207,  253.13968651])"
      ]
     },
     "execution_count": 43,
     "metadata": {},
     "output_type": "execute_result"
    }
   ],
   "source": [
    "sol"
   ]
  },
  {
   "cell_type": "code",
   "execution_count": 35,
   "metadata": {},
   "outputs": [],
   "source": [
    "#solution = eval_sol(mesh.points[:, :2], coords, elems, u_bound, q_bound)"
   ]
  },
  {
   "cell_type": "code",
   "execution_count": 36,
   "metadata": {},
   "outputs": [],
   "source": [
    "# ax = surf_plot(mesh, 4, solution)\n",
    "# ax.set_xticks([])\n",
    "# ax.set_yticks([])\n",
    "# ax.set_zticks([])"
   ]
  },
  {
   "cell_type": "code",
   "execution_count": 37,
   "metadata": {},
   "outputs": [
    {
     "data": {
      "text/plain": [
       "array([102.73822948, 105.60249143, 140.35984675, 223.57053194,\n",
       "       200.        , 200.        , 200.        , 200.        ,\n",
       "       223.57053194, 140.35984675, 105.60249143, 102.73822948,\n",
       "       100.        , 100.        , 100.        , 100.        ])"
      ]
     },
     "execution_count": 37,
     "metadata": {},
     "output_type": "execute_result"
    }
   ],
   "source": [
    "u_bound"
   ]
  },
  {
   "cell_type": "code",
   "execution_count": 31,
   "metadata": {},
   "outputs": [
    {
     "data": {
      "text/plain": [
       "array([ 100.91252995, -306.11302017, -306.11302017,  100.91252995,\n",
       "          0.        ,    0.        ,    0.        ,    0.        ,\n",
       "        253.13968651,  -12.04197207,  -12.04197207,  253.13968651,\n",
       "          0.        ,    0.        ,    0.        ,    0.        ])"
      ]
     },
     "execution_count": 31,
     "metadata": {},
     "output_type": "execute_result"
    }
   ],
   "source": [
    "q_bound"
   ]
  },
  {
   "cell_type": "code",
   "execution_count": null,
   "metadata": {},
   "outputs": [],
   "source": []
  }
 ],
 "metadata": {
  "kernelspec": {
   "display_name": "Python 3 (ipykernel)",
   "language": "python",
   "name": "python3"
  },
  "language_info": {
   "codemirror_mode": {
    "name": "ipython",
    "version": 3
   },
   "file_extension": ".py",
   "mimetype": "text/x-python",
   "name": "python",
   "nbconvert_exporter": "python",
   "pygments_lexer": "ipython3",
   "version": "3.7.8"
  },
  "varInspector": {
   "cols": {
    "lenName": 16,
    "lenType": 16,
    "lenVar": 40
   },
   "kernels_config": {
    "python": {
     "delete_cmd_postfix": "",
     "delete_cmd_prefix": "del ",
     "library": "var_list.py",
     "varRefreshCmd": "print(var_dic_list())"
    },
    "r": {
     "delete_cmd_postfix": ") ",
     "delete_cmd_prefix": "rm(",
     "library": "var_list.r",
     "varRefreshCmd": "cat(var_dic_list()) "
    }
   },
   "types_to_exclude": [
    "module",
    "function",
    "builtin_function_or_method",
    "instance",
    "_Feature"
   ],
   "window_display": false
  }
 },
 "nbformat": 4,
 "nbformat_minor": 4
}
